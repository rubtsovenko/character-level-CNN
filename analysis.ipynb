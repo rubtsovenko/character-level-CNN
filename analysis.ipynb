{
 "cells": [
  {
   "cell_type": "code",
   "execution_count": 1,
   "metadata": {
    "collapsed": true
   },
   "outputs": [],
   "source": [
    "import pandas as pd\n",
    "import matplotlib.pyplot as plt\n",
    "import numpy as np\n",
    "from tqdm import tqdm\n",
    "import string\n",
    "from sklearn.model_selection import train_test_split\n",
    "from sklearn.svm import SVC\n",
    "from sklearn.model_selection import cross_val_score\n",
    "from sklearn.metrics import accuracy_score"
   ]
  },
  {
   "cell_type": "markdown",
   "metadata": {},
   "source": [
    "### Reading Raw Data "
   ]
  },
  {
   "cell_type": "code",
   "execution_count": 2,
   "metadata": {
    "collapsed": true
   },
   "outputs": [],
   "source": [
    "with open('data/ytrain.txt', 'r') as f:\n",
    "    labels = f.read().splitlines()\n",
    "    labels = np.array([int(label) for label in labels])\n",
    "\n",
    "with open(\"data/xtrain_obfuscated.txt\", 'r') as f:\n",
    "    lines = f.read().splitlines()"
   ]
  },
  {
   "cell_type": "code",
   "execution_count": 3,
   "metadata": {},
   "outputs": [
    {
     "name": "stdout",
     "output_type": "stream",
     "text": [
      "Number of labels:  32513\n",
      "Labels: [ 0  1  2  3  4  5  6  7  8  9 10 11]\n",
      "NUmber of classes:  12\n"
     ]
    }
   ],
   "source": [
    "print('Number of labels: ', len(labels))\n",
    "print('Labels:', np.unique(labels))\n",
    "print('NUmber of classes: ', len(np.unique(labels)))"
   ]
  },
  {
   "cell_type": "code",
   "execution_count": 4,
   "metadata": {},
   "outputs": [
    {
     "name": "stdout",
     "output_type": "stream",
     "text": [
      "Number of training samples:  32513\n",
      "line 0: \n",
      "satwamuluhqgulamlrmvezuhqvkrpmletwulcitwskuhlemvtwamuluhiwiwenuhlrvimvqvkruhulenamuluhqgqvtwvimviwuhtwamuluhulqvkrenamcitwuhvipmpmqvuhskiwkrpmdfuhlrvimvskvikrpmqvuhskmvgzenleuhqvmvamuluhulenamuluhqvletwtwvipmpmgzleenamuhtwamuluhtwletwdfuhiwkrxeleentwxeuhpmqvuhtwiwmvamdfuhpkeztwamuluhvimvuhqvtwmkpmpmlelruhgztwtwskuhtwlrkrpmlruhpmuluhqvenuhtwyplepmxeuhenuhamypkrqvuhamulmvdfuhqvskentwamletwlrlrpmiwuhtwamul\n",
      "It's label:  7\n"
     ]
    }
   ],
   "source": [
    "print('Number of training samples: ', len(lines))\n",
    "print('line 0: ')\n",
    "print(lines[0])\n",
    "print('It\\'s label: ', labels[0])"
   ]
  },
  {
   "cell_type": "markdown",
   "metadata": {},
   "source": [
    "Let's have a look at some lines"
   ]
  },
  {
   "cell_type": "code",
   "execution_count": 5,
   "metadata": {},
   "outputs": [
    {
     "name": "stdout",
     "output_type": "stream",
     "text": [
      "line 15: \n",
      "raxexepmuhleenxeuhpmqvuhqgulmvuhletwxetwlegzuhskiwkrpmamqvuhletwskentwleuhtwamuluhxemvuhqglepmvtsatvletwskvikrpmdfuhraleqjuhqvendfuhleentwviuhpmxyuhuhraulvitwezmvulvitwqvuhxepmuhskmvpmmktwskuhsaiwulyptwxeletwgzuhvienezuhletwamulpmvienuhqvskleendfpmuluhgzmvamqvvipmmvuleniwtwleuhiwenkrulmvlemvgzqvuhulenamuluhamypenpmlegzgzenuhvienypuhulvitwezmvulvitwqvuhxepmuhskmvpmmktwskuhsaiwulyptwxeletwgzuhvienez\n"
     ]
    }
   ],
   "source": [
    "print('line 15: ')\n",
    "print(lines[15])"
   ]
  },
  {
   "cell_type": "code",
   "execution_count": 6,
   "metadata": {},
   "outputs": [
    {
     "name": "stdout",
     "output_type": "stream",
     "text": [
      "line 25: \n",
      "saengzuhpmuluhsktwmvleuluhvitwleskiwmvamypuhtwamuluhpkqvezmveniwypuhqvulmvuhulletwqvqvenuhpmuluhvienlrtwtvuhtwkrlrmvulenxeuhqgsatvbhskvienbhsadfuhqvmvamuhvimvuhqvtwyptwmvgzuhlekrpmxeuhlepmuhtwtwleamuluhskvienuhtwiwskvienypuhtwiwpmamdfuhenuhskenamuhezpmguuhulenamuluhdftwviucuhtwamxyuhravimvenlrenuhsktwmvskuhtwgzpmamuhletwamuhskvienuhqgskpmpmulqvletwskvikruhsaucyptwdfuhrasktwsktwtwviuhulpmviuhtwletwdfuhqvsklepmokuhoaamypkrez\n"
     ]
    }
   ],
   "source": [
    "print('line 25: ')\n",
    "print(lines[25])"
   ]
  },
  {
   "cell_type": "markdown",
   "metadata": {},
   "source": [
    "### Some info about data"
   ]
  },
  {
   "cell_type": "markdown",
   "metadata": {},
   "source": [
    "#### Labels distribution"
   ]
  },
  {
   "cell_type": "code",
   "execution_count": 7,
   "metadata": {
    "collapsed": true
   },
   "outputs": [],
   "source": [
    "# to plot a nice picture it has to take array of numbers form 0 to num_classes-1 and each \n",
    "# number in this range has to occur at least once\n",
    "def plot_labels_dist(labels):\n",
    "    left_of_first_bin = labels.min() - 1/4\n",
    "    right_of_last_bin = labels.max() + 1/2\n",
    "\n",
    "    plt.hist(labels, np.arange(left_of_first_bin, right_of_last_bin, 1/2))\n",
    "    plt.grid()\n",
    "    plt.xticks(np.arange(0, max(labels)+1, 1))\n",
    "    plt.xlabel('class')\n",
    "    plt.ylabel('number of elements')\n",
    "    plt.title('Labels distribution')\n",
    "    plt.show()"
   ]
  },
  {
   "cell_type": "code",
   "execution_count": 8,
   "metadata": {},
   "outputs": [
    {
     "data": {
      "image/png": "[encoded data removed]",
      "text/plain": [
       "<matplotlib.figure.Figure at 0x7fee26dade80>"
      ]
     },
     "metadata": {},
     "output_type": "display_data"
    }
   ],
   "source": [
    "plot_labels_dist(labels)"
   ]
  },
  {
   "cell_type": "markdown",
   "metadata": {},
   "source": [
    "We can see that there are sighificantly few examples for class 0 and also few for 2, 9 11"
   ]
  },
  {
   "cell_type": "markdown",
   "metadata": {
    "collapsed": true
   },
   "source": [
    "#### distribution of lines length"
   ]
  },
  {
   "cell_type": "code",
   "execution_count": 9,
   "metadata": {
    "collapsed": true
   },
   "outputs": [],
   "source": [
    "lines_length = np.array([len(line) for line in lines])"
   ]
  },
  {
   "cell_type": "code",
   "execution_count": 10,
   "metadata": {
    "collapsed": true
   },
   "outputs": [],
   "source": [
    "def plot_length_dist(lines_length):\n",
    "    fig = plt.figure()\n",
    "    \n",
    "    ax1 = plt.subplot('121')\n",
    "    ax1.set_title('default range')\n",
    "    ax1.hist(lines_length, bins=100)\n",
    "    ax1.grid()\n",
    "    ax1.set_xlabel('Line\\'s length')\n",
    "    ax1.set_ylabel('Number of lines')\n",
    "    \n",
    "    ax2 = plt.subplot('122')\n",
    "    ax2.set_title('range zoom')\n",
    "    ax2.hist(lines_length, bins=100)\n",
    "    ax2.grid()\n",
    "    ax2.set_xlim((320,450))\n",
    "    ax2.set_xlabel('Line\\'s length')\n",
    "    ax2.set_ylabel('Number of lines')\n",
    "    \n",
    "    fig.subplots_adjust(top=1, bottom=0, left=0, right=2.2, hspace=0.2, wspace=0.3)\n",
    "    \n",
    "    plt.show()"
   ]
  },
  {
   "cell_type": "code",
   "execution_count": 11,
   "metadata": {},
   "outputs": [
    {
     "data": {
      "image/png": "[encoded data removed]",
      "text/plain": [
       "<matplotlib.figure.Figure at 0x7fee26006cf8>"
      ]
     },
     "metadata": {},
     "output_type": "display_data"
    }
   ],
   "source": [
    "plot_length_dist(lines_length)"
   ]
  },
  {
   "cell_type": "markdown",
   "metadata": {},
   "source": [
    "#### Length distribution per class"
   ]
  },
  {
   "cell_type": "code",
   "execution_count": 12,
   "metadata": {
    "collapsed": true
   },
   "outputs": [],
   "source": [
    "def plot_length_dist_per_class(lines_length, labels, num_classes=12):\n",
    "    for label in range(num_classes):\n",
    "        print('class:', label)\n",
    "        plot_length_dist(lines_length[labels==label])"
   ]
  },
  {
   "cell_type": "code",
   "execution_count": 13,
   "metadata": {},
   "outputs": [
    {
     "name": "stdout",
     "output_type": "stream",
     "text": [
      "class: 0\n"
     ]
    },
    {
     "data": {
      "image/png": "[encoded data removed]",
      "text/plain": [
       "<matplotlib.figure.Figure at 0x7fee26087240>"
      ]
     },
     "metadata": {},
     "output_type": "display_data"
    },
    {
     "name": "stdout",
     "output_type": "stream",
     "text": [
      "class: 1\n"
     ]
    },
    {
     "data": {
      "image/png": "[encoded data removed]",
      "text/plain": [
       "<matplotlib.figure.Figure at 0x7fee26075ac8>"
      ]
     },
     "metadata": {},
     "output_type": "display_data"
    },
    {
     "name": "stdout",
     "output_type": "stream",
     "text": [
      "class: 2\n"
     ]
    },
    {
     "data": {
      "image/png": "[encoded data removed]",
      "text/plain": [
       "<matplotlib.figure.Figure at 0x7fee25bf0a20>"
      ]
     },
     "metadata": {},
     "output_type": "display_data"
    },
    {
     "name": "stdout",
     "output_type": "stream",
     "text": [
      "class: 3\n"
     ]
    },
    {
     "data": {
      "image/png": "[encoded data removed]",
      "text/plain": [
       "<matplotlib.figure.Figure at 0x7fee25b3f2b0>"
      ]
     },
     "metadata": {},
     "output_type": "display_data"
    },
    {
     "name": "stdout",
     "output_type": "stream",
     "text": [
      "class: 4\n"
     ]
    },
    {
     "data": {
      "image/png": "[encoded data removed]",
      "text/plain": [
       "<matplotlib.figure.Figure at 0x7fee25a22eb8>"
      ]
     },
     "metadata": {},
     "output_type": "display_data"
    },
    {
     "name": "stdout",
     "output_type": "stream",
     "text": [
      "class: 5\n"
     ]
    },
    {
     "data": {
      "image/png": "[encoded data removed]",
      "text/plain": [
       "<matplotlib.figure.Figure at 0x7fee26090828>"
      ]
     },
     "metadata": {},
     "output_type": "display_data"
    },
    {
     "name": "stdout",
     "output_type": "stream",
     "text": [
      "class: 6\n"
     ]
    },
    {
     "data": {
      "image/png": "[encoded data removed]",
      "text/plain": [
       "<matplotlib.figure.Figure at 0x7fee25fe1278>"
      ]
     },
     "metadata": {},
     "output_type": "display_data"
    },
    {
     "name": "stdout",
     "output_type": "stream",
     "text": [
      "class: 7\n"
     ]
    },
    {
     "data": {
      "image/png": "[encoded data removed]",
      "text/plain": [
       "<matplotlib.figure.Figure at 0x7fee259e9cf8>"
      ]
     },
     "metadata": {},
     "output_type": "display_data"
    },
    {
     "name": "stdout",
     "output_type": "stream",
     "text": [
      "class: 8\n"
     ]
    },
    {
     "data": {
      "image/png": "[encoded data removed]",
      "text/plain": [
       "<matplotlib.figure.Figure at 0x7fee25dcc550>"
      ]
     },
     "metadata": {},
     "output_type": "display_data"
    },
    {
     "name": "stdout",
     "output_type": "stream",
     "text": [
      "class: 9\n"
     ]
    },
    {
     "data": {
      "image/png": "[encoded data removed]",
      "text/plain": [
       "<matplotlib.figure.Figure at 0x7fee25f6fc88>"
      ]
     },
     "metadata": {},
     "output_type": "display_data"
    },
    {
     "name": "stdout",
     "output_type": "stream",
     "text": [
      "class: 10\n"
     ]
    },
    {
     "data": {
      "image/png": "[encoded data removed]",
      "text/plain": [
       "<matplotlib.figure.Figure at 0x7fee25fd20b8>"
      ]
     },
     "metadata": {},
     "output_type": "display_data"
    },
    {
     "name": "stdout",
     "output_type": "stream",
     "text": [
      "class: 11\n"
     ]
    },
    {
     "data": {
      "image/png": "[encoded data removed]",
      "text/plain": [
       "<matplotlib.figure.Figure at 0x7fee25c02cf8>"
      ]
     },
     "metadata": {},
     "output_type": "display_data"
    }
   ],
   "source": [
    "plot_length_dist_per_class(lines_length, labels)"
   ]
  },
  {
   "cell_type": "markdown",
   "metadata": {},
   "source": [
    "#### statistics"
   ]
  },
  {
   "cell_type": "code",
   "execution_count": 14,
   "metadata": {},
   "outputs": [
    {
     "data": {
      "text/html": [
       "<div>\n",
       "<style scoped>\n",
       "    .dataframe tbody tr th:only-of-type {\n",
       "        vertical-align: middle;\n",
       "    }\n",
       "\n",
       "    .dataframe tbody tr th {\n",
       "        vertical-align: top;\n",
       "    }\n",
       "\n",
       "    .dataframe thead th {\n",
       "        text-align: right;\n",
       "    }\n",
       "</style>\n",
       "<table border=\"1\" class=\"dataframe\">\n",
       "  <thead>\n",
       "    <tr style=\"text-align: right;\">\n",
       "      <th></th>\n",
       "      <th>label</th>\n",
       "      <th>len</th>\n",
       "      <th>string</th>\n",
       "    </tr>\n",
       "  </thead>\n",
       "  <tbody>\n",
       "    <tr>\n",
       "      <th>0</th>\n",
       "      <td>7</td>\n",
       "      <td>406</td>\n",
       "      <td>satwamuluhqgulamlrmvezuhqvkrpmletwulcitwskuhle...</td>\n",
       "    </tr>\n",
       "    <tr>\n",
       "      <th>1</th>\n",
       "      <td>3</td>\n",
       "      <td>386</td>\n",
       "      <td>twmkiwpmqvtwleuhsaiwsktwmvlelekramuhqvkruhtwsk...</td>\n",
       "    </tr>\n",
       "    <tr>\n",
       "      <th>2</th>\n",
       "      <td>8</td>\n",
       "      <td>418</td>\n",
       "      <td>vidfpmskuhvilepmuluhtwtvuhulsovienamqvuhskiwmv...</td>\n",
       "    </tr>\n",
       "    <tr>\n",
       "      <th>3</th>\n",
       "      <td>3</td>\n",
       "      <td>426</td>\n",
       "      <td>raskleenkrlruhtwulenleengztwqvuhenuhsatvuhsktw...</td>\n",
       "    </tr>\n",
       "    <tr>\n",
       "      <th>4</th>\n",
       "      <td>4</td>\n",
       "      <td>416</td>\n",
       "      <td>dfenqvuhtwamqvuhqgtwiwtvenuluhqvijletwamulenxe...</td>\n",
       "    </tr>\n",
       "  </tbody>\n",
       "</table>\n",
       "</div>"
      ],
      "text/plain": [
       "   label  len                                             string\n",
       "0      7  406  satwamuluhqgulamlrmvezuhqvkrpmletwulcitwskuhle...\n",
       "1      3  386  twmkiwpmqvtwleuhsaiwsktwmvlelekramuhqvkruhtwsk...\n",
       "2      8  418  vidfpmskuhvilepmuluhtwtvuhulsovienamqvuhskiwmv...\n",
       "3      3  426  raskleenkrlruhtwulenleengztwqvuhenuhsatvuhsktw...\n",
       "4      4  416  dfenqvuhtwamqvuhqgtwiwtvenuluhqvijletwamulenxe..."
      ]
     },
     "execution_count": 14,
     "metadata": {},
     "output_type": "execute_result"
    }
   ],
   "source": [
    "df = pd.DataFrame({'string':lines, 'label':labels, 'len':lines_length})\n",
    "df.head()"
   ]
  },
  {
   "cell_type": "code",
   "execution_count": 15,
   "metadata": {},
   "outputs": [
    {
     "name": "stdout",
     "output_type": "stream",
     "text": [
      "Mean line length: 413.389351952\n",
      "Median line length: 416.0\n"
     ]
    }
   ],
   "source": [
    "print('Mean line length:', df['len'].mean())\n",
    "print('Median line length:', df['len'].median())"
   ]
  },
  {
   "cell_type": "code",
   "execution_count": 18,
   "metadata": {
    "collapsed": true
   },
   "outputs": [],
   "source": [
    "grouped = df.groupby(['label'])"
   ]
  },
  {
   "cell_type": "code",
   "execution_count": 19,
   "metadata": {},
   "outputs": [
    {
     "name": "stdout",
     "output_type": "stream",
     "text": [
      "Mean line length for each class\n",
      "label\n",
      "0     411.756906\n",
      "1     417.347788\n",
      "2     407.574439\n",
      "3     414.810341\n",
      "4     419.327343\n",
      "5     416.992554\n",
      "6     413.569333\n",
      "7     411.261919\n",
      "8     408.265823\n",
      "9     412.910204\n",
      "10    413.150721\n",
      "11    411.846591\n",
      "Name: len, dtype: float64\n"
     ]
    }
   ],
   "source": [
    "print('Mean line length for each class')\n",
    "print(grouped['len'].mean())"
   ]
  },
  {
   "cell_type": "code",
   "execution_count": 20,
   "metadata": {},
   "outputs": [
    {
     "name": "stdout",
     "output_type": "stream",
     "text": [
      "Mean line length for each class\n",
      "label\n",
      "0     418\n",
      "1     420\n",
      "2     412\n",
      "3     418\n",
      "4     424\n",
      "5     420\n",
      "6     418\n",
      "7     414\n",
      "8     412\n",
      "9     418\n",
      "10    416\n",
      "11    416\n",
      "Name: len, dtype: int64\n"
     ]
    }
   ],
   "source": [
    "print('Mean line length for each class')\n",
    "print(grouped['len'].median())"
   ]
  },
  {
   "cell_type": "code",
   "execution_count": 21,
   "metadata": {},
   "outputs": [
    {
     "name": "stdout",
     "output_type": "stream",
     "text": [
      "Number of labels in each class:\n",
      "label\n",
      "0      543\n",
      "1     3459\n",
      "2     1471\n",
      "3     4023\n",
      "4     2337\n",
      "5     2283\n",
      "6     4226\n",
      "7     5097\n",
      "8     3634\n",
      "9      980\n",
      "10    3052\n",
      "11    1408\n",
      "Name: label, dtype: int64\n"
     ]
    }
   ],
   "source": [
    "print('Number of labels in each class:')\n",
    "print(grouped['label'].count())"
   ]
  },
  {
   "cell_type": "code",
   "execution_count": 22,
   "metadata": {},
   "outputs": [
    {
     "name": "stdout",
     "output_type": "stream",
     "text": [
      "Labels ratio:\n",
      "label\n",
      "0     0.016701\n",
      "1     0.106388\n",
      "2     0.045243\n",
      "3     0.123735\n",
      "4     0.071879\n",
      "5     0.070218\n",
      "6     0.129979\n",
      "7     0.156768\n",
      "8     0.111771\n",
      "9     0.030142\n",
      "10    0.093870\n",
      "11    0.043306\n",
      "Name: label, dtype: float64\n"
     ]
    }
   ],
   "source": [
    "print('Labels ratio:')\n",
    "print(grouped['label'].count() / df['label'].size)"
   ]
  },
  {
   "cell_type": "markdown",
   "metadata": {},
   "source": [
    "#### It seems like each string containts only lowercase letters from the latin alphabet. Let's check this assumption:"
   ]
  },
  {
   "cell_type": "code",
   "execution_count": 23,
   "metadata": {},
   "outputs": [
    {
     "name": "stdout",
     "output_type": "stream",
     "text": [
      "['a', 'b', 'c', 'd', 'e', 'f', 'g', 'h', 'i', 'j', 'k', 'l', 'm', 'n', 'o', 'p', 'q', 'r', 's', 't', 'u', 'v', 'w', 'x', 'y', 'z']\n"
     ]
    }
   ],
   "source": [
    "letters = list(string.ascii_lowercase)\n",
    "print(letters)"
   ]
  },
  {
   "cell_type": "code",
   "execution_count": 24,
   "metadata": {},
   "outputs": [
    {
     "name": "stderr",
     "output_type": "stream",
     "text": [
      "100%|██████████| 32513/32513 [00:03<00:00, 8537.51it/s]\n"
     ]
    }
   ],
   "source": [
    "for i in tqdm(range(len(lines))):\n",
    "    for c in lines[i]:\n",
    "        if c not in letters:\n",
    "            print('There is a character {} in the line {} that doesn\\'t belong to the alphabet'.format(c, i))"
   ]
  },
  {
   "cell_type": "markdown",
   "metadata": {},
   "source": [
    "Assumption is correct"
   ]
  },
  {
   "cell_type": "markdown",
   "metadata": {},
   "source": [
    "### Simple fast stupid baseline"
   ]
  },
  {
   "cell_type": "markdown",
   "metadata": {},
   "source": [
    "I just conut number of occurrences of each letter into a string"
   ]
  },
  {
   "cell_type": "code",
   "execution_count": 25,
   "metadata": {},
   "outputs": [
    {
     "data": {
      "text/plain": [
       "(32513, 26)"
      ]
     },
     "execution_count": 25,
     "metadata": {},
     "output_type": "execute_result"
    }
   ],
   "source": [
    "X = np.zeros([len(lines), len(letters)])\n",
    "X.shape "
   ]
  },
  {
   "cell_type": "code",
   "execution_count": 26,
   "metadata": {},
   "outputs": [
    {
     "name": "stderr",
     "output_type": "stream",
     "text": [
      "100%|██████████| 32513/32513 [00:01<00:00, 19312.94it/s]\n"
     ]
    }
   ],
   "source": [
    "lines_encoded = []\n",
    "for line in tqdm(lines):\n",
    "    d = dict()\n",
    "    for c in letters:\n",
    "        d[c] = 0\n",
    "    for c in line:\n",
    "        d[c] += 1\n",
    "    lines_encoded.append(d)"
   ]
  },
  {
   "cell_type": "code",
   "execution_count": 27,
   "metadata": {},
   "outputs": [
    {
     "data": {
      "text/plain": [
       "{'a': 17,\n",
       " 'b': 0,\n",
       " 'c': 2,\n",
       " 'd': 4,\n",
       " 'e': 25,\n",
       " 'f': 4,\n",
       " 'g': 5,\n",
       " 'h': 34,\n",
       " 'i': 16,\n",
       " 'j': 0,\n",
       " 'k': 16,\n",
       " 'l': 34,\n",
       " 'm': 41,\n",
       " 'n': 10,\n",
       " 'o': 0,\n",
       " 'p': 17,\n",
       " 'q': 15,\n",
       " 'r': 16,\n",
       " 's': 7,\n",
       " 't': 23,\n",
       " 'u': 50,\n",
       " 'v': 30,\n",
       " 'w': 30,\n",
       " 'x': 3,\n",
       " 'y': 2,\n",
       " 'z': 5}"
      ]
     },
     "execution_count": 27,
     "metadata": {},
     "output_type": "execute_result"
    }
   ],
   "source": [
    "lines_encoded[0]"
   ]
  },
  {
   "cell_type": "code",
   "execution_count": 28,
   "metadata": {
    "collapsed": true
   },
   "outputs": [],
   "source": [
    "for i, d in enumerate(lines_encoded):\n",
    "    vector = [d[key] for key in d]\n",
    "    X[i,:] = vector"
   ]
  },
  {
   "cell_type": "code",
   "execution_count": 29,
   "metadata": {},
   "outputs": [
    {
     "data": {
      "text/plain": [
       "array([ 16.,   7.,   5.,   0.,   2.,  30.,  16.,   5.,   2.,  10.,  17.,\n",
       "        34.,  16.,  25.,  23.,  41.,   0.,   4.,   4.,  50.,   0.,  17.,\n",
       "        34.,   3.,  30.,  15.])"
      ]
     },
     "execution_count": 29,
     "metadata": {},
     "output_type": "execute_result"
    }
   ],
   "source": [
    "X[0,:]"
   ]
  },
  {
   "cell_type": "code",
   "execution_count": 30,
   "metadata": {},
   "outputs": [
    {
     "data": {
      "text/plain": [
       "(32513,)"
      ]
     },
     "execution_count": 30,
     "metadata": {},
     "output_type": "execute_result"
    }
   ],
   "source": [
    "y = labels\n",
    "y.shape"
   ]
  },
  {
   "cell_type": "markdown",
   "metadata": {},
   "source": [
    "training dataset X_train and y_train is created. Now I split it to train val test datasets"
   ]
  },
  {
   "cell_type": "markdown",
   "metadata": {},
   "source": [
    "#### splitting data"
   ]
  },
  {
   "cell_type": "code",
   "execution_count": 31,
   "metadata": {
    "collapsed": true
   },
   "outputs": [],
   "source": [
    "X_train, X_test, y_train, y_test = train_test_split(X, y, test_size=0.1, random_state=1, stratify=y)"
   ]
  },
  {
   "cell_type": "code",
   "execution_count": 32,
   "metadata": {},
   "outputs": [
    {
     "data": {
      "text/plain": [
       "(29261, 26)"
      ]
     },
     "execution_count": 32,
     "metadata": {},
     "output_type": "execute_result"
    }
   ],
   "source": [
    "X_train.shape"
   ]
  },
  {
   "cell_type": "code",
   "execution_count": 33,
   "metadata": {},
   "outputs": [
    {
     "data": {
      "text/plain": [
       "(29261, 26)"
      ]
     },
     "execution_count": 33,
     "metadata": {},
     "output_type": "execute_result"
    }
   ],
   "source": [
    "X_train.shape"
   ]
  },
  {
   "cell_type": "code",
   "execution_count": 34,
   "metadata": {},
   "outputs": [
    {
     "name": "stdout",
     "output_type": "stream",
     "text": [
      "Labels ration in splitted train set\n",
      "label\n",
      "0     0.016712\n",
      "1     0.106387\n",
      "2     0.045248\n",
      "3     0.123748\n",
      "4     0.071870\n",
      "5     0.070230\n",
      "6     0.129968\n",
      "7     0.156762\n",
      "8     0.111753\n",
      "9     0.030143\n",
      "10    0.093879\n",
      "11    0.043300\n",
      "Name: label, dtype: float64\n"
     ]
    }
   ],
   "source": [
    "df_y_train = pd.DataFrame({'label':y_train})\n",
    "print('Labels ration in splitted train set')\n",
    "print(df_y_train.groupby(['label'])['label'].count() / df_y_train.size)"
   ]
  },
  {
   "cell_type": "code",
   "execution_count": 35,
   "metadata": {},
   "outputs": [
    {
     "name": "stdout",
     "output_type": "stream",
     "text": [
      "Labels ration in splitted test set\n",
      "label\n",
      "0     0.016605\n",
      "1     0.106396\n",
      "2     0.045203\n",
      "3     0.123616\n",
      "4     0.071956\n",
      "5     0.070111\n",
      "6     0.130074\n",
      "7     0.156827\n",
      "8     0.111931\n",
      "9     0.030135\n",
      "10    0.093788\n",
      "11    0.043358\n",
      "Name: label, dtype: float64\n"
     ]
    }
   ],
   "source": [
    "df_y_test = pd.DataFrame({'label':y_test})\n",
    "print('Labels ration in splitted test set')\n",
    "print(df_y_test.groupby(['label'])['label'].count() / df_y_test.size)"
   ]
  },
  {
   "cell_type": "markdown",
   "metadata": {},
   "source": [
    "#### linear svm"
   ]
  },
  {
   "cell_type": "code",
   "execution_count": 38,
   "metadata": {
    "collapsed": true
   },
   "outputs": [],
   "source": [
    "X_train, X_test, y_train, y_test = train_test_split(X, y, test_size=0.2, random_state=1, stratify=y)"
   ]
  },
  {
   "cell_type": "code",
   "execution_count": 39,
   "metadata": {
    "collapsed": true
   },
   "outputs": [],
   "source": [
    "model = SVC(kernel='linear', C=1)"
   ]
  },
  {
   "cell_type": "code",
   "execution_count": 40,
   "metadata": {},
   "outputs": [
    {
     "name": "stdout",
     "output_type": "stream",
     "text": [
      "CPU times: user 484 ms, sys: 160 ms, total: 644 ms\n",
      "Wall time: 9min\n"
     ]
    }
   ],
   "source": [
    "%%time\n",
    "scores = cross_val_score(model, X_train, y_train, cv=4, n_jobs=4)"
   ]
  },
  {
   "cell_type": "code",
   "execution_count": 41,
   "metadata": {},
   "outputs": [
    {
     "name": "stdout",
     "output_type": "stream",
     "text": [
      "[ 0.38506454  0.40347372  0.39498384  0.39356626]\n",
      "Cross-val score: 0.394272089386\n"
     ]
    }
   ],
   "source": [
    "print(scores)\n",
    "print('Cross-val score:', np.mean(scores))"
   ]
  },
  {
   "cell_type": "code",
   "execution_count": 42,
   "metadata": {},
   "outputs": [
    {
     "name": "stdout",
     "output_type": "stream",
     "text": [
      "CPU times: user 7min 43s, sys: 2.35 s, total: 7min 46s\n",
      "Wall time: 7min 46s\n"
     ]
    },
    {
     "data": {
      "text/plain": [
       "SVC(C=1, cache_size=200, class_weight=None, coef0=0.0,\n",
       "  decision_function_shape='ovr', degree=3, gamma='auto', kernel='linear',\n",
       "  max_iter=-1, probability=False, random_state=None, shrinking=True,\n",
       "  tol=0.001, verbose=False)"
      ]
     },
     "execution_count": 42,
     "metadata": {},
     "output_type": "execute_result"
    }
   ],
   "source": [
    "%%time\n",
    "model.fit(X_train, y_train)"
   ]
  },
  {
   "cell_type": "code",
   "execution_count": 45,
   "metadata": {},
   "outputs": [
    {
     "name": "stdout",
     "output_type": "stream",
     "text": [
      "Train accuracy: 0.399961553249\n",
      "CPU times: user 20.9 s, sys: 0 ns, total: 20.9 s\n",
      "Wall time: 20.9 s\n"
     ]
    }
   ],
   "source": [
    "%%time\n",
    "y_pred = model.predict(X_train)\n",
    "print('Train accuracy:', accuracy_score(y_true=y_train, y_pred=y_pred))"
   ]
  },
  {
   "cell_type": "code",
   "execution_count": 46,
   "metadata": {},
   "outputs": [
    {
     "name": "stdout",
     "output_type": "stream",
     "text": [
      "Test accuracy: 0.397970167615\n",
      "CPU times: user 5.25 s, sys: 0 ns, total: 5.25 s\n",
      "Wall time: 5.25 s\n"
     ]
    }
   ],
   "source": [
    "%%time\n",
    "y_pred = model.predict(X_test)\n",
    "print('Test accuracy:', accuracy_score(y_true=y_test, y_pred=y_pred))"
   ]
  },
  {
   "cell_type": "markdown",
   "metadata": {},
   "source": [
    "#### poly kernel svm"
   ]
  },
  {
   "cell_type": "code",
   "execution_count": 110,
   "metadata": {
    "collapsed": true
   },
   "outputs": [],
   "source": [
    "X_train, X_test, y_train, y_test = train_test_split(X, y, test_size=0.95, random_state=1, stratify=y)"
   ]
  },
  {
   "cell_type": "code",
   "execution_count": 111,
   "metadata": {
    "collapsed": true
   },
   "outputs": [],
   "source": [
    "model = SVC(kernel='poly', degree=2, C=1)"
   ]
  },
  {
   "cell_type": "code",
   "execution_count": 112,
   "metadata": {},
   "outputs": [
    {
     "name": "stdout",
     "output_type": "stream",
     "text": [
      "CPU times: user 31.1 s, sys: 4 ms, total: 31.1 s\n",
      "Wall time: 31.1 s\n"
     ]
    },
    {
     "data": {
      "text/plain": [
       "SVC(C=1, cache_size=200, class_weight=None, coef0=0.0,\n",
       "  decision_function_shape='ovr', degree=2, gamma='auto', kernel='poly',\n",
       "  max_iter=-1, probability=False, random_state=None, shrinking=True,\n",
       "  tol=0.001, verbose=False)"
      ]
     },
     "execution_count": 112,
     "metadata": {},
     "output_type": "execute_result"
    }
   ],
   "source": [
    "%%time\n",
    "model.fit(X_train, y_train)"
   ]
  },
  {
   "cell_type": "code",
   "execution_count": 114,
   "metadata": {},
   "outputs": [
    {
     "name": "stdout",
     "output_type": "stream",
     "text": [
      "Train accuracy: 0.989538461538\n",
      "CPU times: user 108 ms, sys: 0 ns, total: 108 ms\n",
      "Wall time: 108 ms\n"
     ]
    }
   ],
   "source": [
    "%%time\n",
    "y_pred = model.predict(X_train)\n",
    "print('Train accuracy:', accuracy_score(y_true=y_train, y_pred=y_pred))"
   ]
  },
  {
   "cell_type": "code",
   "execution_count": 115,
   "metadata": {},
   "outputs": [
    {
     "name": "stdout",
     "output_type": "stream",
     "text": [
      "Test accuracy: 0.277356902357\n",
      "CPU times: user 1.82 s, sys: 0 ns, total: 1.82 s\n",
      "Wall time: 1.82 s\n"
     ]
    }
   ],
   "source": [
    "%%time\n",
    "y_pred = model.predict(X_test)\n",
    "print('Test accuracy:', accuracy_score(y_true=y_test, y_pred=y_pred))"
   ]
  },
  {
   "cell_type": "markdown",
   "metadata": {},
   "source": [
    "#### rbf svm"
   ]
  },
  {
   "cell_type": "code",
   "execution_count": 116,
   "metadata": {
    "collapsed": true
   },
   "outputs": [],
   "source": [
    "X_train, X_test, y_train, y_test = train_test_split(X, y, test_size=0.2, random_state=1, stratify=y)"
   ]
  },
  {
   "cell_type": "code",
   "execution_count": 117,
   "metadata": {
    "collapsed": true
   },
   "outputs": [],
   "source": [
    "model = SVC(kernel='rbf', gamma=0.1, C=1)"
   ]
  },
  {
   "cell_type": "code",
   "execution_count": 118,
   "metadata": {},
   "outputs": [
    {
     "name": "stdout",
     "output_type": "stream",
     "text": [
      "CPU times: user 3min 5s, sys: 1.81 s, total: 3min 7s\n",
      "Wall time: 3min 7s\n"
     ]
    },
    {
     "data": {
      "text/plain": [
       "SVC(C=1, cache_size=200, class_weight=None, coef0=0.0,\n",
       "  decision_function_shape='ovr', degree=3, gamma=0.1, kernel='rbf',\n",
       "  max_iter=-1, probability=False, random_state=None, shrinking=True,\n",
       "  tol=0.001, verbose=False)"
      ]
     },
     "execution_count": 118,
     "metadata": {},
     "output_type": "execute_result"
    }
   ],
   "source": [
    "%%time\n",
    "model.fit(X_train, y_train)"
   ]
  },
  {
   "cell_type": "code",
   "execution_count": 119,
   "metadata": {},
   "outputs": [
    {
     "name": "stdout",
     "output_type": "stream",
     "text": [
      "Train accuracy: 1.0\n",
      "CPU times: user 53.7 s, sys: 36 ms, total: 53.7 s\n",
      "Wall time: 53.8 s\n"
     ]
    }
   ],
   "source": [
    "%%time\n",
    "y_pred = model.predict(X_train)\n",
    "print('Train accuracy:', accuracy_score(y_true=y_train, y_pred=y_pred))"
   ]
  },
  {
   "cell_type": "code",
   "execution_count": 120,
   "metadata": {},
   "outputs": [
    {
     "name": "stdout",
     "output_type": "stream",
     "text": [
      "Test accuracy: 0.156696909119\n",
      "CPU times: user 11.1 s, sys: 0 ns, total: 11.1 s\n",
      "Wall time: 11.1 s\n"
     ]
    }
   ],
   "source": [
    "%%time\n",
    "y_pred = model.predict(X_test)\n",
    "print('Test accuracy:', accuracy_score(y_true=y_test, y_pred=y_pred))"
   ]
  }
 ],
 "metadata": {
  "kernelspec": {
   "display_name": "deep_learning",
   "language": "python",
   "name": "deep_learning"
  },
  "language_info": {
   "codemirror_mode": {
    "name": "ipython",
    "version": 3
   },
   "file_extension": ".py",
   "mimetype": "text/x-python",
   "name": "python",
   "nbconvert_exporter": "python",
   "pygments_lexer": "ipython3",
   "version": "3.5.4"
  }
 },
 "nbformat": 4,
 "nbformat_minor": 2
}
