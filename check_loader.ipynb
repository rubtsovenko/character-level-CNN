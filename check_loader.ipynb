{
 "cells": [
  {
   "cell_type": "code",
   "execution_count": 1,
   "metadata": {
    "collapsed": true
   },
   "outputs": [],
   "source": [
    "import tensorflow as tf\n",
    "import numpy as np\n",
    "import os\n",
    "import string\n",
    "from tqdm import tqdm"
   ]
  },
  {
   "cell_type": "markdown",
   "metadata": {},
   "source": [
    "## Original Data"
   ]
  },
  {
   "cell_type": "code",
   "execution_count": 2,
   "metadata": {
    "collapsed": true
   },
   "outputs": [],
   "source": [
    "def get_data():\n",
    "    root_dir = os.getcwd()\n",
    "    data_dir = os.path.join(root_dir, 'data')\n",
    "\n",
    "    with open(os.path.join(data_dir, 'xtrain_obfuscated.txt'), 'r') as f:\n",
    "        train_lines = f.read().splitlines()\n",
    "\n",
    "    with open(os.path.join(data_dir, 'ytrain.txt'), 'r') as f:\n",
    "        train_labels = f.read().splitlines()\n",
    "        train_labels = np.array([int(label) for label in train_labels])\n",
    "\n",
    "    with open(os.path.join(data_dir, 'xtest_obfuscated.txt'), 'r') as f:\n",
    "        predict_lines = f.read().splitlines()\n",
    "\n",
    "    return train_lines, train_labels, predict_lines"
   ]
  },
  {
   "cell_type": "code",
   "execution_count": 3,
   "metadata": {
    "collapsed": true
   },
   "outputs": [],
   "source": [
    "train_lines, train_labels, predict_lines = get_data()"
   ]
  },
  {
   "cell_type": "code",
   "execution_count": 4,
   "metadata": {},
   "outputs": [
    {
     "name": "stdout",
     "output_type": "stream",
     "text": [
      "Number of examples in the dataset: 32513\n"
     ]
    }
   ],
   "source": [
    "print('Number of examples in the dataset:', len(train_lines))"
   ]
  },
  {
   "cell_type": "markdown",
   "metadata": {},
   "source": [
    "## Parsed tfrecords"
   ]
  },
  {
   "cell_type": "markdown",
   "metadata": {},
   "source": [
    "For conv2d function (slim) input has to be 4 dimensional, so I add channel dimension = 1 to the line embedding"
   ]
  },
  {
   "cell_type": "code",
   "execution_count": 32,
   "metadata": {
    "collapsed": true
   },
   "outputs": [],
   "source": [
    "# encodes numbers from 0 to 2^5-1=31 to their binary form\n",
    "def bit_encoding(number):\n",
    "    bit_str = '{0:05b}'.format(number)\n",
    "    return np.array(list(bit_str), dtype='float32')\n",
    "\n",
    "\n",
    "def preprocess(line_raw, length, max_line_len=416, mode='ohe'):\n",
    "    def get_ohe2d_features(line, line_len):\n",
    "        matrix = np.zeros((n, max_line_len, 1), dtype='float32')\n",
    "        line = line.decode('utf-8')\n",
    "        for i in range(line_len):\n",
    "            if i >= max_line_len:\n",
    "                break\n",
    "            matrix[ohe_position[line[i]], i] = 1\n",
    "        return matrix\n",
    "    \n",
    "    def get_bin2d_features(line, length, m=5, max_line_len=416):\n",
    "        matrix = np.zeros((m, max_line_len, 1), dtype='float32')\n",
    "        line = line.decode('utf-8')\n",
    "        for i in range(length):\n",
    "            if i >= max_line_len:\n",
    "                break\n",
    "            matrix[:,i,0] = bit_encoding(binary_encode[line[i]])\n",
    "        return matrix\n",
    "\n",
    "    letters = list(string.ascii_lowercase)\n",
    "    \n",
    "    if mode == 'ohe':\n",
    "        n = len(letters) # it should be 26\n",
    "        ohe_position = dict()\n",
    "        for i, letter in enumerate(letters):\n",
    "            ohe_position[letter] = i\n",
    "        \n",
    "        line = tf.py_func(func=get_ohe2d_features, inp=[line_raw, length], Tout=tf.float32)\n",
    "        line.set_shape((n, max_line_len))\n",
    "    elif mode == 'bin':\n",
    "        # for binary encoding, as only lowercase letters are used (26) then 2^5-1=31 is enough (m=5)\n",
    "        binary_encode = dict()\n",
    "        m = 5\n",
    "        for i, letter in enumerate(letters):\n",
    "            binary_encode[letter] = i+1\n",
    "        \n",
    "        line = tf.py_func(func=get_bin2d_features, inp=[line_raw, length], Tout=tf.float32)\n",
    "        line.set_shape((m, max_line_len))\n",
    "    else:\n",
    "        raise ValueError('Unrecognized preprocessing mode')\n",
    "    \n",
    "    return line\n",
    "\n",
    "\n",
    "def parse_tfrecord(serialized_example, preprocess_mode):\n",
    "    features = {'length': tf.FixedLenFeature([], tf.int64),\n",
    "                'label': tf.FixedLenFeature([], tf.int64),\n",
    "                'line_raw': tf.FixedLenFeature([], tf.string)}\n",
    "    parsed_record = tf.parse_single_example(serialized_example, features)\n",
    "    \n",
    "    line_raw = tf.cast(parsed_record['line_raw'], tf.string)\n",
    "    label = tf.cast(parsed_record['label'], tf.int32)\n",
    "    length = tf.cast(parsed_record['length'], tf.int32)\n",
    "\n",
    "    # Preprocessing\n",
    "    label = tf.one_hot(label, 12)\n",
    "    line = preprocess(line_raw, length, mode=preprocess_mode)\n",
    "\n",
    "    return line_raw, line, label"
   ]
  },
  {
   "cell_type": "code",
   "execution_count": 33,
   "metadata": {
    "collapsed": true
   },
   "outputs": [],
   "source": [
    "def network_input(preprocess_mode='ohe'):\n",
    "    with tf.name_scope('input'):\n",
    "        filenames = tf.placeholder(tf.string, shape=[None], name='filenames')\n",
    "        batch_size = tf.placeholder(tf.int64, name='batch_size')\n",
    "        num_epochs = tf.placeholder(tf.int64, name='num_epochs')\n",
    "\n",
    "        dataset = tf.data.TFRecordDataset(filenames)\n",
    "        dataset = dataset.map(lambda serialized_ex: parse_tfrecord(serialized_ex, preprocess_mode), num_parallel_calls=2)\n",
    "        dataset = dataset.shuffle(10000)\n",
    "        dataset = dataset.repeat(num_epochs)\n",
    "        dataset = dataset.batch(batch_size)\n",
    "        dataset = dataset.prefetch(100)\n",
    "\n",
    "        iterator = dataset.make_initializable_iterator()\n",
    "        lines_raw, lines, labels = iterator.get_next()\n",
    "\n",
    "    return lines_raw, lines, labels, filenames, batch_size, num_epochs, iterator"
   ]
  },
  {
   "cell_type": "markdown",
   "metadata": {},
   "source": [
    "### Test 1. Lines and their labels"
   ]
  },
  {
   "cell_type": "code",
   "execution_count": 34,
   "metadata": {},
   "outputs": [],
   "source": [
    "tf.reset_default_graph()\n",
    "lines_raw, lines, labels, filenames, batch_size, num_epochs, iterator = network_input()"
   ]
  },
  {
   "cell_type": "code",
   "execution_count": 35,
   "metadata": {},
   "outputs": [],
   "source": [
    "with tf.Session() as sess:\n",
    "    sess.run(iterator.initializer, {filenames:[\"data/tfrecords/seed_1/fold_1.tfrecords\"], batch_size:1, num_epochs:1})\n",
    "    line_raw, label = sess.run([lines_raw, labels])"
   ]
  },
  {
   "cell_type": "code",
   "execution_count": 36,
   "metadata": {},
   "outputs": [
    {
     "name": "stdout",
     "output_type": "stream",
     "text": [
      "[ b'yvuhqgvitwamuluhqgiwiwmvucqvuhsaamuluhamypkrezuhpmqvuhulpmfquhraulamlrmviwvikrqvuhtwamuluhamulentwvitwtvuhqvezpmamulenxeuhskvienqvkrpmamuluhenuhlrvimviwmvenqvuhvitwamdfuhqgulamlrkrenypuhtwtvuhvienamulenmvmktwiwuhulqvenmkuhqvmvamuluhskiwkrpmypuhultwviuhsatvuhlepmuhucpmpmamuhsatvuhulpmviuhlepmuyuhratwqvenamypuhtwamuluhxepmuhqvskleenonenamuhiwenulenxeuhtwamuluhiwiwenuhpmuluhezmvamuhqvtwqvpmgzcitwuhlrvimvqvmvleuhqvijtwiwenamdf']\n"
     ]
    }
   ],
   "source": [
    "print(line_raw)"
   ]
  },
  {
   "cell_type": "code",
   "execution_count": 37,
   "metadata": {},
   "outputs": [
    {
     "data": {
      "text/plain": [
       "bytes"
      ]
     },
     "execution_count": 37,
     "metadata": {},
     "output_type": "execute_result"
    }
   ],
   "source": [
    "type(line_raw[0])"
   ]
  },
  {
   "cell_type": "code",
   "execution_count": 38,
   "metadata": {},
   "outputs": [
    {
     "data": {
      "text/plain": [
       "'yvuhqgvitwamuluhqgiwiwmvucqvuhsaamuluhamypkrezuhpmqvuhulpmfquhraulamlrmviwvikrqvuhtwamuluhamulentwvitwtvuhqvezpmamulenxeuhskvienqvkrpmamuluhenuhlrvimviwmvenqvuhvitwamdfuhqgulamlrkrenypuhtwtvuhvienamulenmvmktwiwuhulqvenmkuhqvmvamuluhskiwkrpmypuhultwviuhsatvuhlepmuhucpmpmamuhsatvuhulpmviuhlepmuyuhratwqvenamypuhtwamuluhxepmuhqvskleenonenamuhiwenulenxeuhtwamuluhiwiwenuhpmuluhezmvamuhqvtwqvpmgzcitwuhlrvimvqvmvleuhqvijtwiwenamdf'"
      ]
     },
     "execution_count": 38,
     "metadata": {},
     "output_type": "execute_result"
    }
   ],
   "source": [
    "line_raw[0].decode(\"utf-8\") "
   ]
  },
  {
   "cell_type": "markdown",
   "metadata": {},
   "source": [
    "Let's find this line in the original data and compare lables"
   ]
  },
  {
   "cell_type": "code",
   "execution_count": 39,
   "metadata": {},
   "outputs": [],
   "source": [
    "index_in_dataset = 0\n",
    "for i, tr_line in enumerate(train_lines):\n",
    "    if tr_line == line_raw[0].decode(\"utf-8\") :\n",
    "        index_in_dataset = i\n",
    "        break"
   ]
  },
  {
   "cell_type": "code",
   "execution_count": 40,
   "metadata": {},
   "outputs": [
    {
     "data": {
      "text/plain": [
       "7"
      ]
     },
     "execution_count": 40,
     "metadata": {},
     "output_type": "execute_result"
    }
   ],
   "source": [
    "train_labels[index_in_dataset]"
   ]
  },
  {
   "cell_type": "code",
   "execution_count": 41,
   "metadata": {},
   "outputs": [
    {
     "name": "stdout",
     "output_type": "stream",
     "text": [
      "[[ 0.  0.  0.  0.  0.  0.  0.  1.  0.  0.  0.  0.]]\n"
     ]
    }
   ],
   "source": [
    "print(label)"
   ]
  },
  {
   "cell_type": "markdown",
   "metadata": {},
   "source": [
    "### Test 2. Embedding ohe"
   ]
  },
  {
   "cell_type": "code",
   "execution_count": 42,
   "metadata": {
    "collapsed": true
   },
   "outputs": [],
   "source": [
    "tf.reset_default_graph()\n",
    "lines_raw, lines, labels, filenames, batch_size, num_epochs, iterator = network_input(preprocess_mode='ohe')"
   ]
  },
  {
   "cell_type": "code",
   "execution_count": 43,
   "metadata": {
    "collapsed": true
   },
   "outputs": [],
   "source": [
    "with tf.Session() as sess:\n",
    "    sess.run(iterator.initializer, {filenames:[\"data/tfrecords/seed_1/fold_1.tfrecords\"], batch_size:1, num_epochs:1})\n",
    "    line_raw, line, label = sess.run([lines_raw, lines, labels])"
   ]
  },
  {
   "cell_type": "code",
   "execution_count": 44,
   "metadata": {
    "collapsed": true
   },
   "outputs": [],
   "source": [
    "letters = list(string.ascii_lowercase)\n",
    "n = len(letters)\n",
    "ohe_position = dict()\n",
    "for i, letter in enumerate(letters):\n",
    "    ohe_position[letter] = i"
   ]
  },
  {
   "cell_type": "code",
   "execution_count": 45,
   "metadata": {},
   "outputs": [],
   "source": [
    "def check_character_embedding(index):\n",
    "    print('letter:', line_raw[0].decode(\"utf-8\")[index])\n",
    "    print('ohe position:', ohe_position[line_raw[0].decode(\"utf-8\")[index]])\n",
    "    print('encoded letter: \\n', line[0][:,index])"
   ]
  },
  {
   "cell_type": "code",
   "execution_count": 46,
   "metadata": {},
   "outputs": [
    {
     "name": "stdout",
     "output_type": "stream",
     "text": [
      "ratwypmvpmmkuhdfpmiwuhenuhvimvuhqgtwtwleamguuhqvtwkrszypencguhsktwmkletwqvtvpmuhvgqgskentwamuhtwvipmuhqvenuhulvikrpmypuhskiwkrpmdfuhtwlpnkuhvieneeuhrasaendfuhletwamulmvtwuhlrvimviwtwtwxeuhpmviuhtwmkenamuhiguhohskvientvqvkramuhsaezuhpmuluhlepmulyppmmcuhqvmvamuluhtwleengzqvuhiguhvieneeuhoatwlepmezuhtwypvipmuhultwrbnkuhravimvenlrenuhlrvimvletwskvipmgzuhqgtwlrleenxetwmcuhtwezenskenqjuhskmvenqvuhvgqgtwtwqvuhtwezuhultwiwuhqgdfpmfqnk\n"
     ]
    }
   ],
   "source": [
    "print(line_raw[0].decode(\"utf-8\"))"
   ]
  },
  {
   "cell_type": "code",
   "execution_count": 47,
   "metadata": {},
   "outputs": [
    {
     "name": "stdout",
     "output_type": "stream",
     "text": [
      "Shape: (1, 26, 416, 1)\n"
     ]
    }
   ],
   "source": [
    "print('Shape:', line.shape)"
   ]
  },
  {
   "cell_type": "code",
   "execution_count": 48,
   "metadata": {},
   "outputs": [
    {
     "name": "stdout",
     "output_type": "stream",
     "text": [
      "letter: r\n",
      "ohe position: 17\n",
      "encoded letter: \n",
      " [[ 0.]\n",
      " [ 0.]\n",
      " [ 0.]\n",
      " [ 0.]\n",
      " [ 0.]\n",
      " [ 0.]\n",
      " [ 0.]\n",
      " [ 0.]\n",
      " [ 0.]\n",
      " [ 0.]\n",
      " [ 0.]\n",
      " [ 0.]\n",
      " [ 0.]\n",
      " [ 0.]\n",
      " [ 0.]\n",
      " [ 0.]\n",
      " [ 0.]\n",
      " [ 1.]\n",
      " [ 0.]\n",
      " [ 0.]\n",
      " [ 0.]\n",
      " [ 0.]\n",
      " [ 0.]\n",
      " [ 0.]\n",
      " [ 0.]\n",
      " [ 0.]]\n"
     ]
    }
   ],
   "source": [
    "check_character_embedding(0)"
   ]
  },
  {
   "cell_type": "code",
   "execution_count": 49,
   "metadata": {},
   "outputs": [
    {
     "name": "stdout",
     "output_type": "stream",
     "text": [
      "letter: a\n",
      "ohe position: 0\n",
      "encoded letter: \n",
      " [[ 1.]\n",
      " [ 0.]\n",
      " [ 0.]\n",
      " [ 0.]\n",
      " [ 0.]\n",
      " [ 0.]\n",
      " [ 0.]\n",
      " [ 0.]\n",
      " [ 0.]\n",
      " [ 0.]\n",
      " [ 0.]\n",
      " [ 0.]\n",
      " [ 0.]\n",
      " [ 0.]\n",
      " [ 0.]\n",
      " [ 0.]\n",
      " [ 0.]\n",
      " [ 0.]\n",
      " [ 0.]\n",
      " [ 0.]\n",
      " [ 0.]\n",
      " [ 0.]\n",
      " [ 0.]\n",
      " [ 0.]\n",
      " [ 0.]\n",
      " [ 0.]]\n"
     ]
    }
   ],
   "source": [
    "check_character_embedding(1)"
   ]
  },
  {
   "cell_type": "code",
   "execution_count": 50,
   "metadata": {},
   "outputs": [
    {
     "name": "stdout",
     "output_type": "stream",
     "text": [
      "letter: t\n",
      "ohe position: 19\n",
      "encoded letter: \n",
      " [[ 0.]\n",
      " [ 0.]\n",
      " [ 0.]\n",
      " [ 0.]\n",
      " [ 0.]\n",
      " [ 0.]\n",
      " [ 0.]\n",
      " [ 0.]\n",
      " [ 0.]\n",
      " [ 0.]\n",
      " [ 0.]\n",
      " [ 0.]\n",
      " [ 0.]\n",
      " [ 0.]\n",
      " [ 0.]\n",
      " [ 0.]\n",
      " [ 0.]\n",
      " [ 0.]\n",
      " [ 0.]\n",
      " [ 1.]\n",
      " [ 0.]\n",
      " [ 0.]\n",
      " [ 0.]\n",
      " [ 0.]\n",
      " [ 0.]\n",
      " [ 0.]]\n"
     ]
    }
   ],
   "source": [
    "check_character_embedding(2)"
   ]
  },
  {
   "cell_type": "markdown",
   "metadata": {},
   "source": [
    "### Test 3. Embedding binary"
   ]
  },
  {
   "cell_type": "code",
   "execution_count": 51,
   "metadata": {
    "collapsed": true
   },
   "outputs": [],
   "source": [
    "tf.reset_default_graph()\n",
    "lines_raw, lines, labels, filenames, batch_size, num_epochs, iterator = network_input(preprocess_mode='bin')"
   ]
  },
  {
   "cell_type": "code",
   "execution_count": 52,
   "metadata": {},
   "outputs": [],
   "source": [
    "with tf.Session() as sess:\n",
    "    sess.run(iterator.initializer, {filenames:[\"data/tfrecords/seed_1/fold_1.tfrecords\"], batch_size:1, num_epochs:1})\n",
    "    line_raw, line, label = sess.run([lines_raw, lines, labels])"
   ]
  },
  {
   "cell_type": "code",
   "execution_count": 53,
   "metadata": {},
   "outputs": [
    {
     "name": "stdout",
     "output_type": "stream",
     "text": [
      "Binary Encoding:\n",
      "0 : [ 0.  0.  0.  0.  0.]\n",
      "1 : [ 0.  0.  0.  0.  1.]\n",
      "2 : [ 0.  0.  0.  1.  0.]\n",
      "3 : [ 0.  0.  0.  1.  1.]\n",
      "4 : [ 0.  0.  1.  0.  0.]\n",
      "5 : [ 0.  0.  1.  0.  1.]\n"
     ]
    }
   ],
   "source": [
    "print(\"Binary Encoding:\")\n",
    "for i in range(6):\n",
    "    print(i, ':', bit_encoding(i))"
   ]
  },
  {
   "cell_type": "code",
   "execution_count": 54,
   "metadata": {},
   "outputs": [
    {
     "data": {
      "text/plain": [
       "'lemvtwamuluhxepmuhsalepmeztwezuhtwamuluhqgtwskmvlegzuhsaiwtwvipmiwuhvimvuhtwezpmamuhulenuhlrvimvqvlekrviuhqgqvultwmkiwtwmkuhsktwiwiwtwdftwbruhvimvuhqvtwezenskuhsaulamlrkrenamuhsktweztwtwqvuhqvulamlrmvviuhsaiwtwulenulqvuhskvienuhsktwleleenulqvuhtwamguuhradfpmviqvuhletwulendfbhtwqvpmleuhamulmvdfuhqggzkruhsktwuceniwxevtgzkruhsktwgzentwamuhqgultwtvletwamqvuhvienmvqvletwmwuhxepmuhqvultwiwtvpmlruhiwenulqvsaleypuhqvenuhtwletwdf'"
      ]
     },
     "execution_count": 54,
     "metadata": {},
     "output_type": "execute_result"
    }
   ],
   "source": [
    "line_raw[0].decode('utf-8')"
   ]
  },
  {
   "cell_type": "code",
   "execution_count": 56,
   "metadata": {},
   "outputs": [
    {
     "data": {
      "text/plain": [
       "(1, 5, 416, 1)"
      ]
     },
     "execution_count": 56,
     "metadata": {},
     "output_type": "execute_result"
    }
   ],
   "source": [
    "line.shape"
   ]
  },
  {
   "cell_type": "code",
   "execution_count": 57,
   "metadata": {},
   "outputs": [
    {
     "data": {
      "text/plain": [
       "array([[ 0.,  0.,  0., ...,  0.,  1.,  0.],\n",
       "       [ 1.,  0.,  1., ...,  1.,  0.,  1.],\n",
       "       [ 1.,  1.,  1., ...,  1.,  1.,  0.],\n",
       "       [ 0.,  0.,  0., ...,  1.,  0.,  0.],\n",
       "       [ 0.,  1.,  1., ...,  0.,  1.,  0.]], dtype=float32)"
      ]
     },
     "execution_count": 57,
     "metadata": {},
     "output_type": "execute_result"
    }
   ],
   "source": [
    "line[0,:,:,0]"
   ]
  },
  {
   "cell_type": "markdown",
   "metadata": {},
   "source": [
    "don't forget that encoded line length may be shorter then original one"
   ]
  }
 ],
 "metadata": {
  "kernelspec": {
   "display_name": "deep_learning",
   "language": "python",
   "name": "deep_learning"
  },
  "language_info": {
   "codemirror_mode": {
    "name": "ipython",
    "version": 3
   },
   "file_extension": ".py",
   "mimetype": "text/x-python",
   "name": "python",
   "nbconvert_exporter": "python",
   "pygments_lexer": "ipython3",
   "version": "3.5.4"
  }
 },
 "nbformat": 4,
 "nbformat_minor": 2
}
